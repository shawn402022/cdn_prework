{
 "cells": [
  {
   "cell_type": "markdown",
   "id": "b6d531f2",
   "metadata": {},
   "source": [
    "# Question 1"
   ]
  },
  {
   "cell_type": "markdown",
   "id": "300fb2fd",
   "metadata": {},
   "source": [
    "Write a function to print \"hello_USERNAME!\" USERNAME is the input of the function. The first line of the code has been defined as below."
   ]
  },
  {
   "cell_type": "code",
   "execution_count": 32,
   "id": "990400a3",
   "metadata": {},
   "outputs": [
    {
     "name": "stdout",
     "output_type": "stream",
     "text": [
      "hello Shawn\n"
     ]
    }
   ],
   "source": [
    "def hello_name(user_name):\n",
    "    print(F'hello {user_name.title()}')\n",
    "\n",
    "hello_name('shawn')\n",
    "\n",
    "\n"
   ]
  },
  {
   "cell_type": "markdown",
   "id": "4d09d5a9",
   "metadata": {},
   "source": [
    "# Question 2"
   ]
  },
  {
   "cell_type": "markdown",
   "id": "0c7928f3",
   "metadata": {},
   "source": [
    "Write a python function, first_odds that prints the odd numbers from 1-100 and returns nothing"
   ]
  },
  {
   "cell_type": "code",
   "execution_count": 40,
   "id": "ea4781b8",
   "metadata": {},
   "outputs": [
    {
     "name": "stdout",
     "output_type": "stream",
     "text": [
      "1\n",
      "3\n",
      "5\n",
      "7\n",
      "9\n",
      "11\n",
      "13\n",
      "15\n",
      "17\n",
      "19\n",
      "21\n",
      "23\n",
      "25\n",
      "27\n",
      "29\n",
      "31\n",
      "33\n",
      "35\n",
      "37\n",
      "39\n",
      "41\n",
      "43\n",
      "45\n",
      "47\n",
      "49\n",
      "51\n",
      "53\n",
      "55\n",
      "57\n",
      "59\n",
      "61\n",
      "63\n",
      "65\n",
      "67\n",
      "69\n",
      "71\n",
      "73\n",
      "75\n",
      "77\n",
      "79\n",
      "81\n",
      "83\n",
      "85\n",
      "87\n",
      "89\n",
      "91\n",
      "93\n",
      "95\n",
      "97\n",
      "99\n"
     ]
    }
   ],
   "source": [
    "def first_odds():\n",
    "    for num in range(1,100,2):\n",
    "        print(num)\n",
    "        \n",
    "first_odds()\n",
    "            \n",
    "    "
   ]
  },
  {
   "cell_type": "markdown",
   "id": "5a63bc6a",
   "metadata": {},
   "source": [
    "# Question 3"
   ]
  },
  {
   "cell_type": "markdown",
   "id": "f8ae932f",
   "metadata": {},
   "source": [
    "Please write a Python function, max_num_in_list to return the max number of a given list. The first line of the code has been defined as below."
   ]
  },
  {
   "cell_type": "code",
   "execution_count": 49,
   "id": "a3389e56",
   "metadata": {},
   "outputs": [
    {
     "name": "stdout",
     "output_type": "stream",
     "text": [
      "12\n"
     ]
    }
   ],
   "source": [
    " def max_num_in_list(a_list):\n",
    "        list1 = [1,2,3,4,5,6,7,8,9,10,11,12]\n",
    "        m_list = max(list1)\n",
    "        print(m_list)\n",
    "        \n",
    "max_num_in_list('m_list')\n",
    "\n",
    "        "
   ]
  },
  {
   "cell_type": "markdown",
   "id": "cf183db0",
   "metadata": {},
   "source": [
    "# Question 4"
   ]
  },
  {
   "cell_type": "markdown",
   "id": "dc9da7ae",
   "metadata": {},
   "source": [
    "Write a function to return if the given year is a leap year. A leap year is divisible by 4, but not divisible by 100, unless it is also divisible by 400. The return should be boolean Type (true/false)."
   ]
  },
  {
   "cell_type": "code",
   "execution_count": 59,
   "id": "5e51dddd",
   "metadata": {},
   "outputs": [
    {
     "name": "stdout",
     "output_type": "stream",
     "text": [
      "1600 is a leap year\n"
     ]
    },
    {
     "data": {
      "text/plain": [
       "True"
      ]
     },
     "execution_count": 59,
     "metadata": {},
     "output_type": "execute_result"
    }
   ],
   "source": [
    "def is_leap_year(a_year):\n",
    "    if a_year % 4 == 0 and a_year % 400 == 0 :\n",
    "        print(F'{a_year} is a leap year')\n",
    "        return True\n",
    "    else:\n",
    "        print(F'{a_year} is not a leap year')\n",
    "        return False\n",
    "        \n",
    "is_leap_year(1600)\n",
    "\n",
    "    "
   ]
  },
  {
   "cell_type": "markdown",
   "id": "5b8e9a9c",
   "metadata": {},
   "source": [
    "# Question 5"
   ]
  },
  {
   "cell_type": "markdown",
   "id": "6a7729d8",
   "metadata": {},
   "source": [
    "Write a function to check to see if all numbers in list are consecutive numbers. For example, [2,3,4,5,6,7] are consecutive numbers, but [1,2,4,5] are not consecutive numbers. The return should be boolean Type."
   ]
  },
  {
   "cell_type": "code",
   "execution_count": 75,
   "id": "31d950bd",
   "metadata": {},
   "outputs": [
    {
     "ename": "SyntaxError",
     "evalue": "invalid syntax (2194593436.py, line 5)",
     "output_type": "error",
     "traceback": [
      "\u001b[1;36m  Input \u001b[1;32mIn [75]\u001b[1;36m\u001b[0m\n\u001b[1;33m    if num += 1:\u001b[0m\n\u001b[1;37m           ^\u001b[0m\n\u001b[1;31mSyntaxError\u001b[0m\u001b[1;31m:\u001b[0m invalid syntax\n"
     ]
    }
   ],
   "source": [
    "def is_consecutive(a_list):\n",
    "    list1=[1,2,5,8]\n",
    "    list2 = list1[0:-1]\n",
    "    for num in list1:\n",
    "        if num += 1:\n",
    "        return True\n",
    "    \n",
    "is_consecutive('list2')\n",
    "    "
   ]
  }
 ],
 "metadata": {
  "kernelspec": {
   "display_name": "Python 3 (ipykernel)",
   "language": "python",
   "name": "python3"
  },
  "language_info": {
   "codemirror_mode": {
    "name": "ipython",
    "version": 3
   },
   "file_extension": ".py",
   "mimetype": "text/x-python",
   "name": "python",
   "nbconvert_exporter": "python",
   "pygments_lexer": "ipython3",
   "version": "3.9.12"
  }
 },
 "nbformat": 4,
 "nbformat_minor": 5
}
